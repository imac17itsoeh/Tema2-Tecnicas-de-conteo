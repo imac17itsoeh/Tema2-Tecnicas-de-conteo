{
 "cells": [
  {
   "cell_type": "code",
   "execution_count": 1,
   "metadata": {},
   "outputs": [],
   "source": [
    "import math"
   ]
  },
  {
   "cell_type": "markdown",
   "metadata": {},
   "source": [
    "# Ejercicio 15\n",
    "Futbol. Tres parejas (tres hombres y tres mujeres) compran boletos para ir a un partido de los \n",
    "Pumas. Cuando llegan al estadio de Ciudad Universitaria les surge la duda de cómo sentarse en \n",
    "la fila. ¿De cuántas maneras pueden hacerlo si:\n"
   ]
  },
  {
   "cell_type": "markdown",
   "metadata": {},
   "source": [
    "#### a) No hay restricciones?\n",
    "En este caso, la disposición de las seis personas en la fila no tiene restricciones, por lo que cada persona tiene 6 opciones de asiento diferentes al principio. Una vez que una persona se sienta, las 5 personas restantes tienen 5 opciones de asiento, y así sucesivamente.\n",
    "\n",
    "El número total de maneras de sentarse sin restricciones se puede calcular utilizando la notación factorial:\n",
    "$$\n",
    "n! = n * (n - 1) * (n - 2) * (n - 3) . . . 3 * 2 * 1\n",
    "$$\n",
    "Calculamos 6! para obtener el número total de casos posibles ya que son un total de seis personas:\n",
    "$$\n",
    "6! = 6 * 5 * 4 * 3 * 2 * 1\\\\\n",
    "6!= 720\n",
    "$$\n",
    "Por lo tanto existen **720** formas en las cuales se pueden sentar a los individuos cuando no hay restricciones "
   ]
  },
  {
   "cell_type": "code",
   "execution_count": 2,
   "metadata": {},
   "outputs": [
    {
     "name": "stdout",
     "output_type": "stream",
     "text": [
      "a) Hay 720  formas en las cuales se pueden sentar a los individuos\n"
     ]
    }
   ],
   "source": [
    "# Implementacion de la solucion del inciso a) del ejercicio 15\n",
    "sinRestricciones = math.factorial(6)\n",
    "print(f'a) Hay {sinRestricciones}  formas en las cuales se pueden sentar a los individuos')"
   ]
  },
  {
   "cell_type": "markdown",
   "metadata": {},
   "source": [
    "\n",
    "#### b) Los hombres deben sentarse juntos?\n",
    "Si los hombres deben sentarse juntos, podemos considerarlos como un solo grupo de 3 personas. En este caso, hay un total de cuatro elementos (las 3 mujeres y el grupo de hombres) por lo que se obtiene el factorial de 4 y como en este grupo de hombres pueden haber cambios en las posiciones también es necesario que se obtenga el factorial de 3. Para concluir se deben de multiplicar ambos resultados y este resultado será el numero de maneras en las que pueden sentarse si los hombres deben de permanecer juntos\n",
    "- Calcular el factorial de 4 y 3:\n",
    "$$\n",
    "\\begin{align}\n",
    "    4! &= 4 * 3 * 2 * 1\\\\\n",
    "    4! &= 24\\\\\n",
    "    3! &= 3 * 2 * 1\\\\\n",
    "    3! &= 6\n",
    "\\end{align}\n",
    "$$\n",
    "- Multiplicar los resultados de ambas operaciones:\n",
    "$$\n",
    "\\begin{align}\n",
    "    4! * 3! &= 24 * 6 \\\\\n",
    "    4! * 3! &= 144\n",
    "    \\end{align}\n",
    "$$  \n",
    "Por lo tanto existen **144** combinaciones en caso de que los hombres tengan que estar juntos."
   ]
  },
  {
   "cell_type": "code",
   "execution_count": 3,
   "metadata": {},
   "outputs": [
    {
     "name": "stdout",
     "output_type": "stream",
     "text": [
      "b) Hay 144  combinaciones en caso de que los hombres tengan que estar juntos.\n"
     ]
    }
   ],
   "source": [
    "# Implementacion de la solucion del inciso b) del ejercicio 15\n",
    "hombresJuntos = math.factorial(4) * math.factorial(3)\n",
    "print(f'b) Hay {hombresJuntos}  combinaciones en caso de que los hombres tengan que estar juntos.')"
   ]
  },
  {
   "cell_type": "markdown",
   "metadata": {},
   "source": [
    "\n",
    "#### c) Deben sentarse por parejas?\n",
    "Al sentarse por parejas queda entendido que tendremos un total de 3 parejas diferentes por lo que primeramente obtenemos el número de maneras diferentes en las que podemos sentar a nuestros 3 elementos y esto será calculado con 3!. Dentro de cada pareja existe también un cambio de posiciones lo cual se calcula con 2! para cada pareja, es decir 3 veces. A continuación se muestra lo antes expuesto:\n",
    "- Factorial de 3: número de maneras diferentes en las que puedo sentar a mis parejas:\n",
    "$$\n",
    "\\begin{align}\\\\\n",
    "    3! &= 3 * 2 * 1\\\\\n",
    "    3! &= 6\\\\\n",
    "\\end{align}\n",
    "$$   \n",
    "- Factorial de 2: Dentro de la pareja existen cambio de posiciones (tomar en cuenta que son tres parejas)\n",
    "$$\n",
    "\\begin{align}\\\\\n",
    "    2! &=  2 * 1\\\\\n",
    "    2! &= 2\\\\\n",
    "\\end{align}\n",
    "$$ \n",
    "Multiplicar el resultado de 2! por 3 ya que son tres parejas:\n",
    "$$\n",
    "\\begin{align}\\\\\n",
    "    2! * 3 = 8\n",
    "\\end{align}\n",
    "$$ \n",
    "- Multiplica ambos resultados de las operaciones anteriores: \n",
    "$$\n",
    "\\begin{align}\\\\\n",
    "    6 * 8 = 48\n",
    "\\end{align}\n",
    "$$ \n",
    "Por lo tanto existen **48** combinaciones diferentes al sentarse por parejas."
   ]
  },
  {
   "cell_type": "code",
   "execution_count": 4,
   "metadata": {},
   "outputs": [
    {
     "name": "stdout",
     "output_type": "stream",
     "text": [
      "c) Hay 48 combinaciones diferentes al sentarse por parejas.\n"
     ]
    }
   ],
   "source": [
    "# Implementacion de la solucion del inciso c) del ejercicio 15\n",
    "formasParejas = (math.factorial(2) * math.factorial(2) * math.factorial(2)) * math.factorial(3)\n",
    "print(f'c) Hay {formasParejas} combinaciones diferentes al sentarse por parejas.')"
   ]
  },
  {
   "cell_type": "markdown",
   "metadata": {},
   "source": [
    "\n",
    "#### d) ¿Cuál es la probabilidad de cada uno de los eventos descritos en los incisos anteriores?\n",
    "De acuerdo a  la fórmula de la probabilidad:\n",
    "$$\n",
    "\\begin{align}\n",
    "    P(A) = \\dfrac{Casos Favorables}{CasosPosibles}\n",
    "\\end{align}\n",
    "$$\n",
    "Probabilidad a cada uno de los eventos descritos en los incisos anteriores.  \n",
    "  \n",
    "Probabilidad del inciso b) \"Los hombres deben sentarse juntos\":\n",
    "$$\n",
    "\\begin{align}\n",
    "    P(b) &= \\dfrac{144}{720}\\\\\n",
    "    P(b) &= 0.2\n",
    "\\end{align}\n",
    "$$\n",
    "Probabilidad del inciso c) \"Deben sentarse por pareja\" :\n",
    "\n",
    "$$\n",
    "\\begin{align}\n",
    "    P(c) &= \\dfrac{48}{720}\\\\\n",
    "    P(c) &= 0.0666\n",
    "\\end{align}\n",
    "$$"
   ]
  },
  {
   "cell_type": "code",
   "execution_count": 5,
   "metadata": {},
   "outputs": [
    {
     "name": "stdout",
     "output_type": "stream",
     "text": [
      "d) Probabilidad inciso (b): 0.2\n",
      "   Probabilidad inciso (c): 0.06666666666666667\n"
     ]
    }
   ],
   "source": [
    "# Implementacion de la solucion del inciso d) del ejercicio 15\n",
    "probabilidadB = hombresJuntos / sinRestricciones\n",
    "probabilidadC = formasParejas / sinRestricciones\n",
    "print(\"d) Probabilidad inciso (b):\", probabilidadB)\n",
    "print(\"   Probabilidad inciso (c):\", probabilidadC)"
   ]
  },
  {
   "cell_type": "markdown",
   "metadata": {
    "_cell_guid": "b1076dfc-b9ad-4769-8c92-a6c4dae69d19",
    "_uuid": "8f2839f25d086af736a60e9eeb907d3b93b6e0e5"
   },
   "source": [
    "# Ejercicio 16\n",
    "Trabajo en equipo. En un grupo de 25 alumnos hay 13 chicas y 12 chicos. Se desean formar \n",
    "equipos de trabajo para realizar una investigación:\n"
   ]
  },
  {
   "cell_type": "markdown",
   "metadata": {},
   "source": [
    "#### a) ¿Cuántos equipos de cinco personas pueden formarse?\n",
    "En este inciso, se calcula la cantidad de grupos diferentes que podemos formar al seleccionar **5** estudiantes de un grupo de **25**. **No importa si se trata de hombres o mujeres** solo la cantidad de estudiantes que forman el equipo. Para esto, haremos uso de la formula de combinaciones:  \n",
    "  \n",
    "$$\n",
    "nCr = \\dfrac{n!}{r! (n - r)!}\n",
    "$$\n",
    "\n",
    "Para la cual:    \n",
    "n es el total de elementos en el conjunto.  \n",
    "r es el número de elementos que se quieren ocupar.  \n",
    "! es el factorial.  \n",
    "  \n",
    "$$\n",
    "\\begin{align}\n",
    "    _{25}C_{5} &= \\dfrac{25!}{ 5! ( 25 - 5)!}\\\\\n",
    "    _{25}C_{5} &= \\dfrac{25!}{ 5! ( 20)!}\\\\\n",
    "    _{25}C_{5} &= \\dfrac{ 25 * 24 * 23 * 22* 21 * 20!}{ 5! * 20!}\\\\\n",
    "    _{25}C_{5} &= \\dfrac{25 * 24 * 23 * 22 * 21}{ 5!}\\\\\n",
    "    _{25}C_{5} &= 53130\n",
    "\\end{align}\n",
    "$$  \n",
    "Por lo tanto se pueden formar **53130** equipos de cinco personas. "
   ]
  },
  {
   "cell_type": "code",
   "execution_count": 6,
   "metadata": {},
   "outputs": [
    {
     "name": "stdout",
     "output_type": "stream",
     "text": [
      "a) Hay 53130 equipos de cinco personas\n"
     ]
    }
   ],
   "source": [
    "# Implementacion de la solucion del inciso a) del ejercicio 16\n",
    "aqCinco = math.comb(25, 5)\n",
    "print(f'a) Hay {aqCinco} equipos de cinco personas')"
   ]
  },
  {
   "cell_type": "markdown",
   "metadata": {},
   "source": [
    "#### b) ¿Cuántos equipos pueden formarse si debe haber una chica?\n",
    "\n",
    "En este caso, debemos asegurarnos de que haya una chica en cada equipo de cinco personas, al decir esto, concluimos que los otros 4 miembros del equipo deben de ser chicos, una vez entendido el problema podemos dividir la solución en dos pasos:\n",
    "\n",
    "- **Seleccionar 4 estudiantes varones de los 12 disponibles:** Para calcular el número de combinaciones debemos seleccionar 4 chicos de los 12 disponibles y esto lo podemos lograr utilizando la fórmula de combinaciones:\n",
    "$$\n",
    "\\begin{align}\n",
    "    _{12}C_{4} &= \\dfrac{12!}{ 4! ( 12 - 4)!}\\\\\n",
    "    _{12}C_{4} &= \\dfrac{12!}{ 4! ( 8)!}\\\\\n",
    "    _{12}C_{4} &= \\dfrac{12 * 11 * 10 * 9 * 8!}{ 4! * 8!}\\\\\n",
    "    _{12}C_{4} &= \\dfrac{12 * 11 * 10 * 9}{ 4!}\\\\\n",
    "    _{12}C_{4} &= 495\n",
    "\\end{align}\n",
    "$$  \n",
    "\n",
    "- **Seleccionar 1 chica de entre las 13 disponibles:** Una vez que hemos seleccionado 4 estudiantes, sabemos que el último y quinto integrante debe de ser chica. Hay 13 chicas disponibles, por lo que solo hay 13 opciones y se debe de elegir a solo una de ellas, esto también se resuelve con la fórmula de combinaciones: \n",
    "$$\n",
    "\\begin{align}\n",
    "    _{13}C_{1} &= \\dfrac{13!}{ 1! ( 13 - 1)!}\\\\\n",
    "    _{13}C_{1} &= \\dfrac{13!}{ 1! ( 12)!}\\\\\n",
    "    _{13}C_{1} &= \\dfrac{13 * 12!}{ 1! * 12 !}\\\\\n",
    "    _{13}C_{1} &= \\dfrac{13}{ 1! }\\\\\n",
    "    _{13}C_{1} &= 13\n",
    "\\end{align}\n",
    "$$  \n",
    "\n",
    "\n",
    "**Total de equipos con una chica:**\n",
    "\n",
    "El número total de equipos con una chica se obtiene multiplicando el número de combinaciones del paso 1 por el número de opciones del paso 2:\n",
    "$$\n",
    "\\begin{align}\n",
    "    _{12}C_{4} * _{13}C_{1} &= 495 * 13 \\\\\n",
    "    _{12}C_{4} * _{13}C_{1} &= 6435\n",
    "\\end{align}\n",
    "$$  \n",
    "Por lo tanto se pueden formar **6435** equipos con una chica y cuatro chicos.  "
   ]
  },
  {
   "cell_type": "code",
   "execution_count": 7,
   "metadata": {},
   "outputs": [
    {
     "name": "stdout",
     "output_type": "stream",
     "text": [
      "b) Hay 6435 equipos con una chica y cuatro chicos.\n"
     ]
    }
   ],
   "source": [
    "# Implementacion de la solucion del inciso b) del ejercicio 16\n",
    "unaChica = math.comb(12, 4) * math.comb(13, 1)\n",
    "print(f'b) Hay {unaChica} equipos con una chica y cuatro chicos.')"
   ]
  },
  {
   "cell_type": "markdown",
   "metadata": {},
   "source": [
    "\n",
    "#### c) ¿Cuántos equipos pueden formarse si debe haber dos chicas?\n",
    "\n",
    "En este caso, debemos asegurarnos de que haya dos chica en cada equipo de cinco personas, al decir esto, concluimos nuevamente que los otros 3 miembros del equipo deben de ser chicos, una vez entendido el problema podemos dividir la solución en dos pasos:\n",
    "\n",
    "- **Seleccionar 3 estudiantes varones de los 12 disponibles:** Para calcular el número de combinaciones debemos seleccionar 3 chicos de los 12 disponibles y esto lo podemos lograr utilizando la fórmula de combinaciones:\n",
    "$$\n",
    "\\begin{align}\n",
    "    _{12}C_{3} &= \\dfrac{12!}{ 3! ( 12 - 3)!}\\\\\n",
    "    _{12}C_{3} &= \\dfrac{12!}{ 3! ( 9)!}\\\\\n",
    "    _{12}C_{3} &= \\dfrac{12 * 11 * 10 * 9!}{ 3! * 9!}\\\\\n",
    "    _{12}C_{3} &= \\dfrac{12 * 11 * 10}{ 3!}\\\\\n",
    "    _{12}C_{3} &= 220\n",
    "\\end{align}\n",
    "$$  \n",
    "\n",
    "- **Seleccionar 2 chicas de entre las 13 disponibles:** Una vez que hemos seleccionado 3 estudiantes, sabemos que las ultimas dos deben de ser mujeres. Hay 13 chicas disponibles, por lo que solo hay 13 opciones y se debe de elegir a dos de ellas, esto se resuelve con la fórmula de combinaciones: \n",
    "$$\n",
    "\\begin{align}\n",
    "    _{13}C_{2} &= \\dfrac{13!}{ 2! ( 13 - 2)!}\\\\\n",
    "    _{13}C_{2} &= \\dfrac{13!}{ 2! ( 11)!}\\\\\n",
    "    _{13}C_{2} &= \\dfrac{13 * 12 * 11!}{ 2! * 11!}\\\\\n",
    "    _{13}C_{2} &= \\dfrac{13 * 12}{ 2! }\\\\\n",
    "    _{13}C_{2} &= 78\n",
    "\\end{align}\n",
    "$$  \n",
    "\n",
    "\n",
    "**Total de equipos con dos chicas:**\n",
    "\n",
    "El número total de equipos con dos chicas se obtiene multiplicando el número de combinaciones del paso 1 por el número de opciones del paso 2:\n",
    "$$\n",
    "\\begin{align}\n",
    "    _{12}C_{3} * _{13}C_{2} &= 220 * 78 \\\\\n",
    "    _{12}C_{3} * _{13}C_{2} &= 17160\n",
    "\\end{align}\n",
    "$$  \n",
    "    \n",
    "Por lo tanto se pueden formar **17160** equipos de cinco, con dos chicas y tres chicos.  "
   ]
  },
  {
   "cell_type": "code",
   "execution_count": 8,
   "metadata": {},
   "outputs": [
    {
     "name": "stdout",
     "output_type": "stream",
     "text": [
      "c) Hay 17160 equipos de cinco, con dos chicas y tres chicos.\n"
     ]
    }
   ],
   "source": [
    "# Implementacion de la solucion del inciso c) del ejercicio 16\n",
    "dosChicas = math.comb(12, 3) * math.comb(13, 2)\n",
    "print(f'c) Hay {dosChicas} equipos de cinco, con dos chicas y tres chicos.')"
   ]
  },
  {
   "cell_type": "markdown",
   "metadata": {},
   "source": [
    "\n",
    "#### d) Determina las probabilidades correspondientes a los incisos anteriores.\n",
    "Para calcular la probabilidad, dividimos el número de equipos casos favorables entre el total de casos posibles\n",
    "$$\n",
    "\\begin{align}\n",
    "    P(A) = \\dfrac{Casos Favorables}{CasosPosibles}\n",
    "\\end{align}\n",
    "$$\n",
    "Haciendo uso del cálculo de probabilidad, los equipos que pueden formarse si debe haber una chica, inciso b):\n",
    "$$\n",
    "\\begin{align}\n",
    "    P(b) &= \\dfrac{6435}{53130}\\\\\n",
    "    P(b) &= 0.1211\n",
    "\\end{align}\n",
    "$$\n",
    "Y en el caso de los equipos que pueden formarse si deben de haber dos chicas en el equipo, inciso c):\n",
    "\n",
    "$$\n",
    "\\begin{align}\n",
    "    P(c) &= \\dfrac{17160}{53130}\\\\\n",
    "    P(c) &= 0.3229\n",
    "\\end{align}\n",
    "$$  "
   ]
  },
  {
   "cell_type": "code",
   "execution_count": 9,
   "metadata": {},
   "outputs": [
    {
     "name": "stdout",
     "output_type": "stream",
     "text": [
      "d) Probabilidad incisao b)  0.12111801242236025\n",
      "   Probabilidad incisao c)  0.32298136645962733\n"
     ]
    }
   ],
   "source": [
    "# Implementacion de la solucion del inciso d) del ejercicio 16\n",
    "probabilidadB = unaChica / aqCinco\n",
    "probabilidadC = dosChicas / aqCinco\n",
    "print(\"d) Probabilidad incisao b) \", probabilidadB)\n",
    "print(\"   Probabilidad incisao c) \", probabilidadC)"
   ]
  },
  {
   "cell_type": "markdown",
   "metadata": {},
   "source": [
    "# Ejercicio 17\n",
    "Control de calidad. Se tiene una caja con 24 latas y se sabe que dos están contaminadas. Se van \n",
    "a seleccionar tres latas al azar para someterlas a una prueba de control de calidad, es decir, para \n",
    "medir los estándares de calidad de la empresa.\n"
   ]
  },
  {
   "cell_type": "markdown",
   "metadata": {},
   "source": [
    "#### a) ¿Cuántas combinaciones de tres latas pueden hacerse?\n",
    "En este caso, nos interesa saber cuántos grupos de 3 latas podemos formar a partir de las 24 disponibles, sin importar si la lata está contaminada o no. Para ello, podemos usar la fórmula de combinaciones:\n",
    "$$\n",
    "\\begin{align}\n",
    "    _{24}C_{3} &= \\dfrac{24!}{ 3! ( 24 - 3)!}\\\\\n",
    "    _{24}C_{3} &= \\dfrac{24!}{ 3! ( 21)!}\\\\\n",
    "    _{24}C_{3} &= \\dfrac{ 24 * 23 * 22 * 21!}{ 3! * 21!}\\\\\n",
    "    _{24}C_{3} &= \\dfrac{24 * 23 * 22}{ 3!}\\\\\n",
    "    _{24}C_{3} &= 2024\n",
    "\\end{align}\n",
    "$$  \n",
    "Por lo tanto se pueden formar **2024** combinaciones de tres latas. "
   ]
  },
  {
   "cell_type": "code",
   "execution_count": 10,
   "metadata": {},
   "outputs": [
    {
     "name": "stdout",
     "output_type": "stream",
     "text": [
      "a) Hay 2024 combinaciones de tres latas.\n"
     ]
    }
   ],
   "source": [
    "# Implementacion de la solucion del inciso a) del ejercicio 17\n",
    "tresLatas = math.comb(24, 3)\n",
    "print(f'a) Hay {tresLatas} combinaciones de tres latas.')"
   ]
  },
  {
   "cell_type": "markdown",
   "metadata": {},
   "source": [
    "#### b) ¿Cuál es la probabilidad de que se seleccione una lata contaminada para la prueba?\n",
    "Para poder resolver este inciso, primero se necesita conocer el número de combinaciones de tres latas donde una de ellas esté contaminada, entonces se entiende que dos de ellas no estarán contaminadas y una de ellas si. Para obtener el número de combinaciones se deben de resolver las dos siguientes fórmulas y al final utilizar el principio multiplicativo para conocer el número de combinaciones posibles:\n",
    "- **Seleccionar 2 latas no contaminadas de las 22 posibles:**\n",
    "$$\n",
    "\\begin{align}\n",
    "    _{22}C_{2} &= \\dfrac{22!}{ 2! ( 22 - 2)!}\\\\\n",
    "    _{22}C_{2} &= \\dfrac{22!}{ 2! ( 20)!}\\\\\n",
    "    _{22}C_{2} &= \\dfrac{22 * 21 * 20!}{ 2! * 20!}\\\\\n",
    "    _{22}C_{2} &= \\dfrac{22 * 21 }{ 2!}\\\\\n",
    "    _{22}C_{2} &= 231\n",
    "\\end{align}\n",
    "$$  \n",
    "- **Seleccionar una lata contaminada de las 2 posibles:**\n",
    "$$\n",
    "\\begin{align}\n",
    "    _{2}C_{1} &= \\dfrac{2!}{ 1! ( 2 - 1)!}\\\\\n",
    "    _{2}C_{1} &= \\dfrac{2!}{ 1! ( 1)!}\\\\\n",
    "    _{2}C_{1} &= \\dfrac{2 * 1!}{ 1! *  1!}\\\\\n",
    "    _{2}C_{1} &= \\dfrac{2 }{ 1!}\\\\\n",
    "    _{2}C_{1} &= 2\n",
    "\\end{align}\n",
    "$$ \n",
    "- **Total de combinaciones:**\n",
    "$$\n",
    "\\begin{align}\n",
    "    _{22}C_{2} * _{2}C_{1} &= 231 * 2\\\\\n",
    "    _{22}C_{2} * _{2}C_{1} &= 462\\\\\n",
    "\\end{align}\n",
    "$$ \n",
    "Una vez que ya obtuvimos el total de combinaciones disponibles aplicamos la fórmula: \n",
    "$$\n",
    "\\begin{align}\n",
    "    P(A) = \\dfrac{Casos Favorables}{CasosPosibles}\n",
    "\\end{align}\n",
    "$$\n",
    "Haciendo uso del cálculo de probabilidad despejamos que: \n",
    "$$\n",
    "\\begin{align}\n",
    "    P(b) &= \\dfrac{462}{2024}\\\\\n",
    "    P(b) &= 0.2282\n",
    "\\end{align}\n",
    "$$\n",
    "\n",
    "##### Por lo tanto la probabilidad de que se seleccione una lata contaminada para la prueba es de **0.2282**"
   ]
  },
  {
   "cell_type": "code",
   "execution_count": 11,
   "metadata": {},
   "outputs": [
    {
     "name": "stdout",
     "output_type": "stream",
     "text": [
      "b) Por lo tanto la probabilidad de que se seleccione una lata contaminada para la prueba es de 0.22826086956521738 \n"
     ]
    }
   ],
   "source": [
    "# Implementacion de la solucion del inciso b) del ejercicio 17\n",
    "unaLataContaminada = math.comb(22, 2) * math.comb(2,1)\n",
    "# print(unaLataContaminada)\n",
    "probabilidadUnaLataContaminada = unaLataContaminada / tresLatas\n",
    "print(f'b) Por lo tanto la probabilidad de que se seleccione una lata contaminada para la prueba es de {probabilidadUnaLataContaminada} ')\n",
    "\n"
   ]
  },
  {
   "cell_type": "markdown",
   "metadata": {},
   "source": [
    "\n",
    "#### c) ¿Cuál es la probabilidad de que se seleccione al menos una lata contaminada para la prueba?\n",
    "Para poder resolver este inciso, primero se necesita conocer el número de combinaciones de tres latas donde al menos una de ellas esté contaminada. Para obtener el número de combinaciones se deben de obtener el número de combinaciones posibles cuando dos una de ellas esté contaminada (ya se resolvió previamente en el inciso b) y el número de combinaciones totales si dos de ellas están contaminadas, este último requerimiento se obtiene con las siguientes fórmulas de combinaciones:\n",
    "- **Seleccionar 1 latas no contaminada de las 22 posibles:**\n",
    "$$\n",
    "\\begin{align}\n",
    "    _{22}C_{1} &= \\dfrac{22!}{ 1! ( 22 - 1)!}\\\\\n",
    "    _{22}C_{1} &= \\dfrac{22!}{ 1! ( 21)!}\\\\\n",
    "    _{22}C_{1} &= \\dfrac{22 * 21!}{ 1! * 21!}\\\\\n",
    "    _{22}C_{1} &= \\dfrac{22}{ 1!}\\\\\n",
    "    _{22}C_{1} &= 22\n",
    "\\end{align}\n",
    "$$  \n",
    "- **Seleccionar dos latas contaminadas de las 2 posibles:**\n",
    "$$\n",
    "\\begin{align}\n",
    "    _{2}C_{2} &= \\dfrac{2!}{ 2! ( 2 - 2)!}\\\\\n",
    "    _{2}C_{2} &= \\dfrac{2!}{ 2! ( 0)!}\\\\\n",
    "    _{2}C_{2} &= \\dfrac{2!}{ 2! *  0!}\\\\\n",
    "    _{2}C_{2} &= 1\n",
    "\\end{align}\n",
    "$$ \n",
    "- **Total de combinaciones cuando dos latas son contaminadas:**\n",
    "$$\n",
    "\\begin{align}\n",
    "    _{22}C_{1} * _{2}C_{2} &= 22 * 1\\\\\n",
    "    _{22}C_{1} * _{2}C_{2} &= 22\\\\\n",
    "\\end{align}\n",
    "$$ \n",
    "Una vez que ya obtuvimos el total de combinaciones disponibles aplicamos la fórmula: \n",
    "$$\n",
    "\\begin{align}\n",
    "    P(A) = \\dfrac{Casos Favorables}{CasosPosibles}\n",
    "\\end{align}\n",
    "$$\n",
    "Probabilidad de que dos latas estén contaminadas: \n",
    "$$\n",
    "\\begin{align}\n",
    "    P &= \\dfrac{22}{2024}\\\\\n",
    "    P &= 0.0108\n",
    "\\end{align}\n",
    "$$\n",
    "finalmente esta probabilidad se va a sumar con la probabilidad de solamente obtener una lata contaminada, es decir **\"Probabilidad una lata contaminada + probabilidad dos latas contaminadas = La probabilidad de que se seleccione al menos una lata contaminada para la prueba\"**\n",
    "$$\n",
    "\\begin{align}\n",
    "    P &= 0.0108 + 0.2282\\\\\n",
    "    P &= 0.2391\n",
    "\\end{align}\n",
    "$$\n",
    "\n",
    "##### Por lo tanto la probabilidad de que se seleccione al menos una lata contaminada para la prueba es de **0.2391**"
   ]
  },
  {
   "cell_type": "code",
   "execution_count": 12,
   "metadata": {},
   "outputs": [
    {
     "name": "stdout",
     "output_type": "stream",
     "text": [
      "c) Por lo tanto la probabilidad de que se seleccione al menos una lata contaminada para la prueba es de 0.23913043478260868 \n"
     ]
    }
   ],
   "source": [
    "# Implementacion de la solucion del inciso c) del ejercicio 17\n",
    "dosLataContaminadas = math.comb(22, 1) * math.comb(2, 2)\n",
    "# print(dosLataContaminadas)\n",
    "probabilidadDosLatasContaminadas = dosLataContaminadas / tresLatas\n",
    "PalmenosUnaContaminada = probabilidadUnaLataContaminada + probabilidadDosLatasContaminadas\n",
    "print(f'c) Por lo tanto la probabilidad de que se seleccione al menos una lata contaminada para la prueba es de {PalmenosUnaContaminada} ')\n",
    "\n"
   ]
  },
  {
   "cell_type": "markdown",
   "metadata": {},
   "source": [
    "\n",
    "#### d) ¿Y la probabilidad de que no se elijan latas contaminadas para la prueba?\n",
    "Para poder resolver este inciso, primero se necesita conocer el número de combinaciones de tres latas donde no se elijan latas contaminadas y esto lo podemos llevar a cabo con la fórmula de combinaciones:\n",
    "- **Seleccionar 3 latas no contaminada de las 22 posibles:**\n",
    "$$\n",
    "\\begin{align}\n",
    "    _{22}C_{3} &= \\dfrac{22!}{ 3! ( 22 - 3)!}\\\\\n",
    "    _{22}C_{3} &= \\dfrac{22!}{ 3! ( 19)!}\\\\\n",
    "    _{22}C_{3} &= \\dfrac{22 * 21 * 20 * 19!}{ 3! * 19!}\\\\\n",
    "    _{22}C_{3} &= \\dfrac{22 * 21 * 20}{ 3!}\\\\\n",
    "    _{22}C_{3} &= 1540\n",
    "\\end{align}\n",
    "$$  \n",
    "\n",
    "Una vez que ya obtuvimos el total de combinaciones disponibles aplicamos la fórmula: \n",
    "$$\n",
    "\\begin{align}\n",
    "    P(A) = \\dfrac{Casos Favorables}{CasosPosibles}\n",
    "\\end{align}\n",
    "$$\n",
    "Probabilidad de que ninguna lata esté contaminada: \n",
    "$$\n",
    "\\begin{align}\n",
    "    P(d) &= \\dfrac{1540}{2024}\\\\\n",
    "    P(d) &= 0.7608\n",
    "\\end{align}\n",
    "$$\n",
    "\n",
    "\n",
    "##### Por lo tanto la probabilidad de que se seleccione ninguna lata contaminada para la prueba es de **0.7608**"
   ]
  },
  {
   "cell_type": "code",
   "execution_count": 13,
   "metadata": {},
   "outputs": [
    {
     "name": "stdout",
     "output_type": "stream",
     "text": [
      "d) Por lo tanto la probabilidad de que se seleccione ninguna lata contaminada para la prueba es de 0.7608695652173914 \n"
     ]
    }
   ],
   "source": [
    "# Implementacion de la solucion del inciso d) del ejercicio 17\n",
    "ningunaContaminada = math.comb(22, 3) \n",
    "# print(ningunaContaminada)\n",
    "ProbNingunaContaminada = ningunaContaminada / tresLatas\n",
    "print(f'd) Por lo tanto la probabilidad de que se seleccione ninguna lata contaminada para la prueba es de {ProbNingunaContaminada} ')"
   ]
  }
 ],
 "metadata": {
  "kaggle": {
   "accelerator": "none",
   "dataSources": [],
   "dockerImageVersionId": 30732,
   "isGpuEnabled": false,
   "isInternetEnabled": false,
   "language": "python",
   "sourceType": "notebook"
  },
  "kernelspec": {
   "display_name": "Python 3 (ipykernel)",
   "language": "python",
   "name": "python3"
  },
  "language_info": {
   "codemirror_mode": {
    "name": "ipython",
    "version": 3
   },
   "file_extension": ".py",
   "mimetype": "text/x-python",
   "name": "python",
   "nbconvert_exporter": "python",
   "pygments_lexer": "ipython3",
   "version": "3.11.4"
  }
 },
 "nbformat": 4,
 "nbformat_minor": 4
}
